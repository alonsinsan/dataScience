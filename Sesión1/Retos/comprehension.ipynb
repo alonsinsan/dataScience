{
 "cells": [
  {
   "cell_type": "markdown",
   "metadata": {},
   "source": [
    "# Reto de dict comprehension"
   ]
  },
  {
   "cell_type": "markdown",
   "metadata": {},
   "source": [
    "Modifica el algoritmo del reto anterior para simplificar el código utilizando dict comprehension."
   ]
  },
  {
   "cell_type": "code",
   "execution_count": 1,
   "metadata": {},
   "outputs": [
    {
     "data": {
      "text/plain": [
       "{'l': 3,\n",
       " 's': 2,\n",
       " 'z': 1,\n",
       " 'o': 5,\n",
       " 'd': 2,\n",
       " 'm': 1,\n",
       " 'p': 1,\n",
       " 'v': 1,\n",
       " ' ': 3,\n",
       " 'b': 1,\n",
       " 'e': 1,\n",
       " 'n': 3,\n",
       " 'a': 5}"
      ]
     },
     "execution_count": 1,
     "metadata": {},
     "output_type": "execute_result"
    }
   ],
   "source": [
    "nombre = \"Pablo Alonso Sandoval Mendoza\"\n",
    "lista_nombre = list(nombre.lower())\n",
    "letras = set(lista_nombre)\n",
    "dic_letras = {letra: lista_nombre.count(letra) for letra in letras}\n",
    "dic_letras"
   ]
  }
 ],
 "metadata": {
  "kernelspec": {
   "display_name": "clases",
   "language": "python",
   "name": "python3"
  },
  "language_info": {
   "codemirror_mode": {
    "name": "ipython",
    "version": 3
   },
   "file_extension": ".py",
   "mimetype": "text/x-python",
   "name": "python",
   "nbconvert_exporter": "python",
   "pygments_lexer": "ipython3",
   "version": "3.12.0"
  }
 },
 "nbformat": 4,
 "nbformat_minor": 2
}
