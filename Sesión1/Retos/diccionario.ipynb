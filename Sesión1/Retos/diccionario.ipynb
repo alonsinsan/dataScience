{
 "cells": [
  {
   "cell_type": "markdown",
   "metadata": {},
   "source": [
    "# Reto de manejo de diccionarios"
   ]
  },
  {
   "cell_type": "markdown",
   "metadata": {},
   "source": [
    "Utilizando una cadena de caracteres con tu nombre, genera un diccionario donde las llaves sean las letras únicas en tu nombre y los valores sean el número de veces que aparece dicha letra en tu nombre  \n",
    "Tip: combina los tips del reto de listas con lo que aprendimos de los diccionarios para generar la respuesta."
   ]
  },
  {
   "cell_type": "code",
   "execution_count": 1,
   "metadata": {},
   "outputs": [
    {
     "data": {
      "text/plain": [
       "{'v': 1,\n",
       " 'z': 1,\n",
       " 's': 2,\n",
       " 'n': 3,\n",
       " 'a': 5,\n",
       " 'p': 1,\n",
       " 'l': 3,\n",
       " 'o': 5,\n",
       " ' ': 3,\n",
       " 'd': 2,\n",
       " 'e': 1,\n",
       " 'm': 1,\n",
       " 'b': 1}"
      ]
     },
     "execution_count": 1,
     "metadata": {},
     "output_type": "execute_result"
    }
   ],
   "source": [
    "nombre = \"Pablo Alonso Sandoval Mendoza\"\n",
    "lista_nombre = list(nombre.lower())\n",
    "letras = list(set(lista_nombre))\n",
    "dic_letras = {}\n",
    "for i in range(len(letras)):\n",
    "    letra = letras[i]\n",
    "    aux = {letra: lista_nombre.count(letra)}\n",
    "    dic_letras.update(aux)\n",
    "dic_letras"
   ]
  },
  {
   "cell_type": "code",
   "execution_count": null,
   "metadata": {},
   "outputs": [],
   "source": []
  }
 ],
 "metadata": {
  "kernelspec": {
   "display_name": "clases",
   "language": "python",
   "name": "python3"
  },
  "language_info": {
   "codemirror_mode": {
    "name": "ipython",
    "version": 3
   },
   "file_extension": ".py",
   "mimetype": "text/x-python",
   "name": "python",
   "nbconvert_exporter": "python",
   "pygments_lexer": "ipython3",
   "version": "3.12.0"
  }
 },
 "nbformat": 4,
 "nbformat_minor": 2
}
