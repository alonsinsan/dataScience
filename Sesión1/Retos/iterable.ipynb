{
 "cells": [
  {
   "cell_type": "markdown",
   "metadata": {},
   "source": [
    "# Ejemplo con iterables\n",
    "Utilizando lo aprendido con los iterables modifica el reto del ejercicio de diccionarios para que sea más sencillo."
   ]
  },
  {
   "cell_type": "code",
   "execution_count": null,
   "metadata": {},
   "outputs": [],
   "source": [
    "nombre = \"Pablo Alonso Sandoval Mendoza\"\n",
    "lista_nombre = list(nombre.lower())\n",
    "letras = list(set(lista_nombre))\n",
    "dic_letras = {}\n",
    "for letra in letras:\n",
    "    aux = {letra: lista_nombre.count(letra)}\n",
    "    dic_letras.update(aux)\n",
    "dic_letras"
   ]
  }
 ],
 "metadata": {
  "language_info": {
   "name": "python"
  }
 },
 "nbformat": 4,
 "nbformat_minor": 2
}
