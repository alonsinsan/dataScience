{
 "cells": [
  {
   "cell_type": "markdown",
   "metadata": {},
   "source": [
    "# Reto de manejo de listas\n",
    "Utilizando una cadena de caracteres con tu nombre, guarda en una lista las letras únicas en tu nombre y muestra un conteo de cuántas veces aparece cada letra  \n",
    "Tip1: utiliza el método lower() del objeto str para transformar la cadena de caracteres con tu nombre a minúsculas  \n",
    "Tip2: el comando set convierte una lista en un conjunto (objeto matemático conjunto) por lo que no existirán valores duplicados  \n",
    "Tip3: utiliza un for para iterar sobre las letras y ve imprimiendo el conteo"
   ]
  },
  {
   "cell_type": "code",
   "execution_count": 2,
   "metadata": {},
   "outputs": [
    {
     "name": "stdout",
     "output_type": "stream",
     "text": [
      "La letra s aparece 2 veces en mi nombre.\n",
      "La letra a aparece 5 veces en mi nombre.\n",
      "La letra n aparece 3 veces en mi nombre.\n",
      "La letra v aparece 1 veces en mi nombre.\n",
      "La letra d aparece 2 veces en mi nombre.\n",
      "La letra l aparece 3 veces en mi nombre.\n",
      "La letra m aparece 1 veces en mi nombre.\n",
      "La letra p aparece 1 veces en mi nombre.\n",
      "La letra b aparece 1 veces en mi nombre.\n",
      "La letra e aparece 1 veces en mi nombre.\n",
      "La letra z aparece 1 veces en mi nombre.\n",
      "La letra   aparece 3 veces en mi nombre.\n",
      "La letra o aparece 5 veces en mi nombre.\n"
     ]
    }
   ],
   "source": [
    "nombre = \"Pablo Alonso Sandoval Mendoza\"\n",
    "lista_nombre = list(nombre.lower())\n",
    "letras = list(set(lista_nombre))\n",
    "for i in range(len(letras)):\n",
    "    letra = letras[i]\n",
    "    print(\"La letra {} aparece {} veces en mi nombre.\".format(letra, lista_nombre.count(letra)))\n"
   ]
  },
  {
   "cell_type": "markdown",
   "metadata": {},
   "source": []
  }
 ],
 "metadata": {
  "kernelspec": {
   "display_name": "clases",
   "language": "python",
   "name": "python3"
  },
  "language_info": {
   "codemirror_mode": {
    "name": "ipython",
    "version": 3
   },
   "file_extension": ".py",
   "mimetype": "text/x-python",
   "name": "python",
   "nbconvert_exporter": "python",
   "pygments_lexer": "ipython3",
   "version": "3.12.0"
  }
 },
 "nbformat": 4,
 "nbformat_minor": 2
}
