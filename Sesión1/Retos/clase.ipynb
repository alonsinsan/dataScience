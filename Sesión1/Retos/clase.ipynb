{
 "cells": [
  {
   "cell_type": "markdown",
   "metadata": {},
   "source": [
    "# Reto agregando retos anteriores a clase humano y probando la clase"
   ]
  },
  {
   "cell_type": "code",
   "execution_count": 1,
   "metadata": {},
   "outputs": [],
   "source": [
    "# importamos la clase\n",
    "from humano import humano"
   ]
  },
  {
   "cell_type": "code",
   "execution_count": 2,
   "metadata": {},
   "outputs": [],
   "source": [
    "# inicializamos un objeto tipo humano\n",
    "yo = humano(\"Pablo Alonso\", \"Sandoval\", \"Mendoza\",1995,12,11)"
   ]
  },
  {
   "cell_type": "code",
   "execution_count": 3,
   "metadata": {},
   "outputs": [
    {
     "data": {
      "text/plain": [
       "{'b': 1,\n",
       " 'm': 1,\n",
       " 'z': 1,\n",
       " 'd': 2,\n",
       " 'v': 1,\n",
       " 'p': 1,\n",
       " ' ': 3,\n",
       " 'e': 1,\n",
       " 'n': 3,\n",
       " 'a': 5,\n",
       " 'o': 5,\n",
       " 's': 2,\n",
       " 'l': 3}"
      ]
     },
     "execution_count": 3,
     "metadata": {},
     "output_type": "execute_result"
    }
   ],
   "source": [
    "yo.letrasNombre()"
   ]
  }
 ],
 "metadata": {
  "kernelspec": {
   "display_name": "clases",
   "language": "python",
   "name": "python3"
  },
  "language_info": {
   "codemirror_mode": {
    "name": "ipython",
    "version": 3
   },
   "file_extension": ".py",
   "mimetype": "text/x-python",
   "name": "python",
   "nbconvert_exporter": "python",
   "pygments_lexer": "ipython3",
   "version": "3.12.0"
  }
 },
 "nbformat": 4,
 "nbformat_minor": 2
}
