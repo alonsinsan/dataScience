{
 "cells": [
  {
   "cell_type": "markdown",
   "metadata": {},
   "source": [
    "# Ejemplo de listas en python"
   ]
  },
  {
   "cell_type": "markdown",
   "metadata": {},
   "source": [
    "Las listas son el elemento nativo dentro de python y tienen su similitud con los vectores en R. La diferencia está en que la lista puede contener objetos de distintos tipos "
   ]
  },
  {
   "cell_type": "code",
   "execution_count": 1,
   "metadata": {},
   "outputs": [
    {
     "data": {
      "text/plain": [
       "[1, 2, 3, 4, 5, 6]"
      ]
     },
     "execution_count": 1,
     "metadata": {},
     "output_type": "execute_result"
    }
   ],
   "source": [
    "# Una lista de números\n",
    "lista_num = [1,2,3,4,5,6]\n",
    "lista_num"
   ]
  },
  {
   "cell_type": "code",
   "execution_count": 2,
   "metadata": {},
   "outputs": [
    {
     "data": {
      "text/plain": [
       "['1', '2', '3', '4', '5', '6', 'árbol']"
      ]
     },
     "execution_count": 2,
     "metadata": {},
     "output_type": "execute_result"
    }
   ],
   "source": [
    "# Una lista de strings\n",
    "lista_str = [\"1\", \"2\", \"3\", \"4\", \"5\", \"6\", \"árbol\"]\n",
    "lista_str"
   ]
  },
  {
   "cell_type": "markdown",
   "metadata": {},
   "source": [
    "A diferencia de R, el tipo de dato fecha no es completamente nativo en python por lo que tenemos que usar la librería datetime para manejarlos"
   ]
  },
  {
   "cell_type": "code",
   "execution_count": 3,
   "metadata": {},
   "outputs": [
    {
     "data": {
      "text/plain": [
       "[datetime.datetime(2024, 1, 1, 0, 0), datetime.datetime(2024, 2, 1, 0, 0)]"
      ]
     },
     "execution_count": 3,
     "metadata": {},
     "output_type": "execute_result"
    }
   ],
   "source": [
    "# Una lista de fechas utilizando la librería datetime\n",
    "from datetime import datetime\n",
    "lista_fechas = [datetime.strptime(\"2024-01-01\", \"%Y-%m-%d\"), datetime.strptime(\"2024/02/01\", \"%Y/%m/%d\")] # el comando datetime.strptime convierte strings a objetos tipo fecha y hay que mandar como parámetro el formato de fecha que se está utilizando\n",
    "lista_fechas"
   ]
  },
  {
   "cell_type": "markdown",
   "metadata": {},
   "source": [
    "Y podemos unir estas listas con el \"+\""
   ]
  },
  {
   "cell_type": "code",
   "execution_count": 4,
   "metadata": {},
   "outputs": [
    {
     "data": {
      "text/plain": [
       "[1,\n",
       " 2,\n",
       " 3,\n",
       " 4,\n",
       " 5,\n",
       " 6,\n",
       " '1',\n",
       " '2',\n",
       " '3',\n",
       " '4',\n",
       " '5',\n",
       " '6',\n",
       " 'árbol',\n",
       " datetime.datetime(2024, 1, 1, 0, 0),\n",
       " datetime.datetime(2024, 2, 1, 0, 0)]"
      ]
     },
     "execution_count": 4,
     "metadata": {},
     "output_type": "execute_result"
    }
   ],
   "source": [
    "union = lista_num + lista_str + lista_fechas\n",
    "union"
   ]
  },
  {
   "cell_type": "markdown",
   "metadata": {},
   "source": [
    "Observamos que la lista union tiene todos los elementos sin tener que cambiarles el tipo de dato en cada elemento"
   ]
  },
  {
   "cell_type": "markdown",
   "metadata": {},
   "source": [
    "## Agregar elementos con \"append\"\n",
    "Adelantándonos al último tema de esta sección, python es un lenguaje de programación orientado a objetos por lo que cada cosa que declares en python pertenece a una clase. con sus respectivos atributos y métodos; podrás distinguir entre atributos o métodos porque los atributos no tendrán paréntesis y los métodos si (como si fueran funciones)\n",
    "En este caso, el objeto unión es un objeto de tipo nativo lista por lo que va a tener atributos y métodos pertnecientes a la clase lista.\n",
    "A su vez, cada elemento es un objeto de su respectiva clase int, str o datetime por lo que también estos tienen sus respectivos atributos y métodos"
   ]
  },
  {
   "cell_type": "code",
   "execution_count": 5,
   "metadata": {},
   "outputs": [
    {
     "data": {
      "text/plain": [
       "[1,\n",
       " 2,\n",
       " 3,\n",
       " 4,\n",
       " 5,\n",
       " 6,\n",
       " '1',\n",
       " '2',\n",
       " '3',\n",
       " '4',\n",
       " '5',\n",
       " '6',\n",
       " 'árbol',\n",
       " datetime.datetime(2024, 1, 1, 0, 0),\n",
       " datetime.datetime(2024, 2, 1, 0, 0),\n",
       " 'a']"
      ]
     },
     "execution_count": 5,
     "metadata": {},
     "output_type": "execute_result"
    }
   ],
   "source": [
    "# método append del objeto tipo lista\n",
    "union.append('a')\n",
    "union"
   ]
  },
  {
   "cell_type": "markdown",
   "metadata": {},
   "source": [
    "Al ser un método del objeto tipo lista, no necesitamos guardar el resultado de esta operación en un objeto con otro nombre o el mismo de union, automáticamente se guarda el nuevo elemento en la lista"
   ]
  },
  {
   "cell_type": "markdown",
   "metadata": {},
   "source": [
    "## Eliminar todos los elementos de la lista con método \"clear\""
   ]
  },
  {
   "cell_type": "code",
   "execution_count": 6,
   "metadata": {},
   "outputs": [
    {
     "data": {
      "text/plain": [
       "[]"
      ]
     },
     "execution_count": 6,
     "metadata": {},
     "output_type": "execute_result"
    }
   ],
   "source": [
    "union.clear()\n",
    "union"
   ]
  },
  {
   "cell_type": "markdown",
   "metadata": {},
   "source": [
    "## Unir listas con el método \"extend\""
   ]
  },
  {
   "cell_type": "code",
   "execution_count": 7,
   "metadata": {},
   "outputs": [
    {
     "name": "stdout",
     "output_type": "stream",
     "text": [
      "Lista union después del 1er extend: [1, 2, 3, 4, 5, 6, '1', '2', '3', '4', '5', '6', 'árbol']\n",
      "Lista union después del 2o extend: [1, 2, 3, 4, 5, 6, '1', '2', '3', '4', '5', '6', 'árbol', datetime.datetime(2024, 1, 1, 0, 0), datetime.datetime(2024, 2, 1, 0, 0)]\n"
     ]
    }
   ],
   "source": [
    "union = lista_num\n",
    "union.extend(lista_str)\n",
    "print(\"Lista union después del 1er extend: {}\".format(union))\n",
    "union.extend(lista_fechas)\n",
    "print(\"Lista union después del 2o extend: {}\".format(union))"
   ]
  },
  {
   "cell_type": "markdown",
   "metadata": {},
   "source": [
    "## Contar cuántas veces está un elemento con el método \"count\""
   ]
  },
  {
   "cell_type": "code",
   "execution_count": 8,
   "metadata": {},
   "outputs": [
    {
     "data": {
      "text/plain": [
       "1"
      ]
     },
     "execution_count": 8,
     "metadata": {},
     "output_type": "execute_result"
    }
   ],
   "source": [
    "union.count(1) # Aunque también aparece la cadena \"1\", solo cuenta el elemento que es 1"
   ]
  },
  {
   "cell_type": "markdown",
   "metadata": {},
   "source": [
    "## Obtener el índice en el que está un elemento\n",
    "Los índices en python empiezan desde 0 por lo que el 1er elemento que se observa en la lsita tendrá índice 0"
   ]
  },
  {
   "cell_type": "code",
   "execution_count": 9,
   "metadata": {},
   "outputs": [
    {
     "data": {
      "text/plain": [
       "12"
      ]
     },
     "execution_count": 9,
     "metadata": {},
     "output_type": "execute_result"
    }
   ],
   "source": [
    "union.index('árbol')"
   ]
  },
  {
   "cell_type": "code",
   "execution_count": 10,
   "metadata": {},
   "outputs": [
    {
     "ename": "ValueError",
     "evalue": "'arbol' is not in list",
     "output_type": "error",
     "traceback": [
      "\u001b[1;31m---------------------------------------------------------------------------\u001b[0m",
      "\u001b[1;31mValueError\u001b[0m                                Traceback (most recent call last)",
      "Cell \u001b[1;32mIn[10], line 2\u001b[0m\n\u001b[0;32m      1\u001b[0m \u001b[38;5;66;03m# regresa error si el elemento no se encuentra\u001b[39;00m\n\u001b[1;32m----> 2\u001b[0m \u001b[43munion\u001b[49m\u001b[38;5;241;43m.\u001b[39;49m\u001b[43mindex\u001b[49m\u001b[43m(\u001b[49m\u001b[38;5;124;43m'\u001b[39;49m\u001b[38;5;124;43marbol\u001b[39;49m\u001b[38;5;124;43m'\u001b[39;49m\u001b[43m)\u001b[49m\n",
      "\u001b[1;31mValueError\u001b[0m: 'arbol' is not in list"
     ]
    }
   ],
   "source": [
    "# regresa error si el elemento no se encuentra\n",
    "union.index('arbol')"
   ]
  },
  {
   "cell_type": "markdown",
   "metadata": {},
   "source": [
    "## Insertar elementos en un índice específico con el método \"insert\""
   ]
  },
  {
   "cell_type": "code",
   "execution_count": null,
   "metadata": {},
   "outputs": [
    {
     "data": {
      "text/plain": [
       "[0, 1, 2, 3, 4, 5, 7, 6]"
      ]
     },
     "execution_count": 12,
     "metadata": {},
     "output_type": "execute_result"
    }
   ],
   "source": [
    "l1 = [1,2,3,4,5,6]\n",
    "l1.insert(0,0) # en la posición 0 inserta el 0\n",
    "l1.insert(-1,7) # en la penúltima posición inserta el 7\n",
    "l1"
   ]
  },
  {
   "cell_type": "markdown",
   "metadata": {},
   "source": [
    "## Eliminar un elemento de la lista con el método \"pop\""
   ]
  },
  {
   "cell_type": "code",
   "execution_count": null,
   "metadata": {},
   "outputs": [
    {
     "data": {
      "text/plain": [
       "[0, 1, 2, 3, 4, 5, 7]"
      ]
     },
     "execution_count": 13,
     "metadata": {},
     "output_type": "execute_result"
    }
   ],
   "source": [
    "l1.pop() # por default elimina el último elemento\n",
    "l1"
   ]
  },
  {
   "cell_type": "code",
   "execution_count": null,
   "metadata": {},
   "outputs": [
    {
     "data": {
      "text/plain": [
       "[1, 2, 3, 4, 5, 7]"
      ]
     },
     "execution_count": 14,
     "metadata": {},
     "output_type": "execute_result"
    }
   ],
   "source": [
    "# También podemos mandar el índice\n",
    "l1.pop(0) # eliminar el primer elemento\n",
    "l1"
   ]
  },
  {
   "cell_type": "markdown",
   "metadata": {},
   "source": [
    "## Eliminar el primer elemento que concuerde con el que indicamos con el método \"remove\""
   ]
  },
  {
   "cell_type": "code",
   "execution_count": null,
   "metadata": {},
   "outputs": [
    {
     "data": {
      "text/plain": [
       "[1, 2, 0, 3, 0, 4, 0]"
      ]
     },
     "execution_count": 15,
     "metadata": {},
     "output_type": "execute_result"
    }
   ],
   "source": [
    "l2 = [1,0,2,0,3,0,4,0]\n",
    "l2.remove(0)\n",
    "l2"
   ]
  },
  {
   "cell_type": "markdown",
   "metadata": {},
   "source": [
    "## Voltear la lista con el método \"reverse\""
   ]
  },
  {
   "cell_type": "code",
   "execution_count": null,
   "metadata": {},
   "outputs": [
    {
     "data": {
      "text/plain": [
       "[0, 4, 0, 3, 0, 2, 1]"
      ]
     },
     "execution_count": 16,
     "metadata": {},
     "output_type": "execute_result"
    }
   ],
   "source": [
    "l2.reverse()\n",
    "l2"
   ]
  },
  {
   "cell_type": "markdown",
   "metadata": {},
   "source": [
    "## Ordenar la lista con el método \"sort\""
   ]
  },
  {
   "cell_type": "code",
   "execution_count": null,
   "metadata": {},
   "outputs": [
    {
     "data": {
      "text/plain": [
       "[0, 0, 0, 1, 2, 3, 4]"
      ]
     },
     "execution_count": 17,
     "metadata": {},
     "output_type": "execute_result"
    }
   ],
   "source": [
    "l2.sort()\n",
    "l2"
   ]
  },
  {
   "cell_type": "markdown",
   "metadata": {},
   "source": [
    "## También podemos generar un elemento tipo lista con el comando list"
   ]
  },
  {
   "cell_type": "code",
   "execution_count": null,
   "metadata": {},
   "outputs": [
    {
     "data": {
      "text/plain": [
       "['H',\n",
       " 'o',\n",
       " 'l',\n",
       " 'a',\n",
       " ' ',\n",
       " 'c',\n",
       " 'ó',\n",
       " 'm',\n",
       " 'o',\n",
       " ' ',\n",
       " 'e',\n",
       " 's',\n",
       " 't',\n",
       " 'á',\n",
       " 's',\n",
       " '?']"
      ]
     },
     "execution_count": 18,
     "metadata": {},
     "output_type": "execute_result"
    }
   ],
   "source": [
    "cadena = list(\"Hola cómo estás?\")\n",
    "cadena"
   ]
  }
 ],
 "metadata": {
  "kernelspec": {
   "display_name": "clases",
   "language": "python",
   "name": "python3"
  },
  "language_info": {
   "codemirror_mode": {
    "name": "ipython",
    "version": 3
   },
   "file_extension": ".py",
   "mimetype": "text/x-python",
   "name": "python",
   "nbconvert_exporter": "python",
   "pygments_lexer": "ipython3",
   "version": "3.12.0"
  }
 },
 "nbformat": 4,
 "nbformat_minor": 2
}
