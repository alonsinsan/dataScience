{
 "cells": [
  {
   "cell_type": "markdown",
   "metadata": {},
   "source": [
    "# List comprehension\n",
    "El concepto de list comprehension nos va a ayudar a simplificar aún más las iteraciones. Su nombre list comprehension viene de generar una lista basándose en otra lista y haciendo funciones sobre los elementos.  \n"
   ]
  },
  {
   "cell_type": "code",
   "execution_count": 1,
   "metadata": {},
   "outputs": [
    {
     "name": "stdout",
     "output_type": "stream",
     "text": [
      "['sol', 'mar', 'uno']\n"
     ]
    }
   ],
   "source": [
    "# imagina que tienes una lista de palabras y quieres una lista con los elementos que cumplan que la palabra mida 3 caracteres\n",
    "# con una iteración a la que estamos acostumbrados\n",
    "palabras = ['sol', 'mar', 'tierra', 'luna', 'espacio', 'uno']\n",
    "palabras3 = []\n",
    "for palabra in palabras: # usando que la lista es un iterable\n",
    "    if len(palabra) == 3:\n",
    "        palabras3.append(palabra)\n",
    "\n",
    "print(palabras3)\n"
   ]
  },
  {
   "cell_type": "code",
   "execution_count": 3,
   "metadata": {},
   "outputs": [
    {
     "name": "stdout",
     "output_type": "stream",
     "text": [
      "['sol', 'mar', 'uno']\n"
     ]
    }
   ],
   "source": [
    "# con sintáxis de list comprehension\n",
    "palabras = ['sol', 'mar', 'tierra', 'luna', 'espacio', 'uno']\n",
    "palabras3 = [palabra for palabra in palabras if len(palabra)==3]\n",
    "print(palabras3)"
   ]
  },
  {
   "cell_type": "markdown",
   "metadata": {},
   "source": [
    "se vuelve más rápido y eficiente hacer iteraciones. Si avanzamos un poco más y quieres aplicar una función a cada elemento de la lista, con el list comprehension lo puedes hacer fácilmente"
   ]
  },
  {
   "cell_type": "code",
   "execution_count": 4,
   "metadata": {},
   "outputs": [
    {
     "name": "stdout",
     "output_type": "stream",
     "text": [
      "[np.float64(1.0), np.float64(1.4142135623730951), np.float64(1.7320508075688772), np.float64(2.0), np.float64(2.23606797749979), np.float64(2.449489742783178), np.float64(2.6457513110645907), np.float64(2.8284271247461903), np.float64(3.0), np.float64(3.1622776601683795)]\n"
     ]
    }
   ],
   "source": [
    "import numpy as np\n",
    "# generamos una lista con números del 1 al 10\n",
    "numeros = [i for i in range(1,11)]\n",
    "# le aplicamos la función cuadrática a cada elemento\n",
    "numeros_sqrt = [np.sqrt(x) for x in numeros]\n",
    "print(numeros_sqrt)"
   ]
  },
  {
   "cell_type": "markdown",
   "metadata": {},
   "source": [
    "para la sintáxis del list comprehension definimos un valor que es el que va tomando la iteración y sobre ese elemento aplicamos la función y finalmente definimos ese valor \"x\" de dónde lo tiene que ir tomando.  \n",
    "También podemos aplicar funciones ifelse de la siguiente forma:"
   ]
  },
  {
   "cell_type": "code",
   "execution_count": 5,
   "metadata": {},
   "outputs": [
    {
     "name": "stdout",
     "output_type": "stream",
     "text": [
      "['par', 'impar', 'par', 'impar', 'par', 'impar', 'par', 'impar', 'par', 'impar']\n"
     ]
    }
   ],
   "source": [
    "# catalogar si es número par o impar\n",
    "numeros = [x for x in range(10)]\n",
    "catalogados = [\"par\" if x%2 == 0 else \"impar\" for x in numeros] # utilizamos la función módulo (%) para saber si es par o impar\n",
    "print(catalogados)"
   ]
  },
  {
   "cell_type": "markdown",
   "metadata": {},
   "source": [
    "y podemos juntar la sintáxis de if else para que sólo considere algunos números"
   ]
  },
  {
   "cell_type": "code",
   "execution_count": 6,
   "metadata": {},
   "outputs": [
    {
     "name": "stdout",
     "output_type": "stream",
     "text": [
      "['impar']\n"
     ]
    }
   ],
   "source": [
    "numeros = [x for x in range(12)]\n",
    "catalogados = [\"par\" if x %2 == 0 else \"impar\" for x in numeros if x >10] # catalogamos los números mayores a 10 nada más\n",
    "print(catalogados)"
   ]
  },
  {
   "cell_type": "markdown",
   "metadata": {},
   "source": [
    "También existe su similar en dict comprehension"
   ]
  },
  {
   "cell_type": "code",
   "execution_count": 8,
   "metadata": {},
   "outputs": [
    {
     "data": {
      "text/plain": [
       "{0: 'par',\n",
       " 1: 'impar',\n",
       " 2: 'par',\n",
       " 3: 'impar',\n",
       " 4: 'par',\n",
       " 5: 'impar',\n",
       " 6: 'par',\n",
       " 7: 'impar',\n",
       " 8: 'par',\n",
       " 9: 'impar',\n",
       " 10: 'par',\n",
       " 11: 'impar'}"
      ]
     },
     "execution_count": 8,
     "metadata": {},
     "output_type": "execute_result"
    }
   ],
   "source": [
    "numeros = [x for x in range(12)]\n",
    "catalogo = {x: \"par\" if x%2 == 0 else \"impar\" for x in numeros}\n",
    "catalogo"
   ]
  },
  {
   "cell_type": "code",
   "execution_count": 9,
   "metadata": {},
   "outputs": [
    {
     "data": {
      "text/plain": [
       "{'par': [0, 2, 4, 6, 8, 10], 'impar': [1, 3, 5, 7, 9, 11]}"
      ]
     },
     "execution_count": 9,
     "metadata": {},
     "output_type": "execute_result"
    }
   ],
   "source": [
    "atributos = {\"par\": 0, \"impar\": 1}\n",
    "{atr: [x for x in numeros if x%2==atributos[atr]] for atr in atributos}"
   ]
  },
  {
   "cell_type": "code",
   "execution_count": 12,
   "metadata": {},
   "outputs": [
    {
     "data": {
      "text/plain": [
       "{'Mexico': array(['cdmx', 'toluca', 'tijuana'], dtype=object),\n",
       " 'USA': array(['miami', 'nueva york'], dtype=object)}"
      ]
     },
     "execution_count": 12,
     "metadata": {},
     "output_type": "execute_result"
    }
   ],
   "source": [
    "import pandas as pd\n",
    "ciudades = pd.DataFrame({'pais': ['Mexico', 'Mexico', 'Mexico', 'USA', 'USA'], 'ciudad': ['cdmx', 'toluca', 'tijuana', 'miami', 'nueva york']})\n",
    "paises = ciudades.pais.unique()\n",
    "dicc = {pais: ciudades[ciudades.pais == pais].ciudad.values for pais in paises}\n",
    "dicc"
   ]
  },
  {
   "cell_type": "code",
   "execution_count": null,
   "metadata": {},
   "outputs": [],
   "source": []
  }
 ],
 "metadata": {
  "kernelspec": {
   "display_name": "clases",
   "language": "python",
   "name": "python3"
  },
  "language_info": {
   "codemirror_mode": {
    "name": "ipython",
    "version": 3
   },
   "file_extension": ".py",
   "mimetype": "text/x-python",
   "name": "python",
   "nbconvert_exporter": "python",
   "pygments_lexer": "ipython3",
   "version": "3.12.0"
  }
 },
 "nbformat": 4,
 "nbformat_minor": 2
}
